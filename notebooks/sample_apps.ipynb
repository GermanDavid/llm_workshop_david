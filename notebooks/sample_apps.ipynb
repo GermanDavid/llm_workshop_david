{
 "cells": [
  {
   "cell_type": "code",
   "execution_count": 1,
   "metadata": {},
   "outputs": [
    {
     "data": {
      "text/plain": [
       "{'requests': (True, '2.31.0'),\n",
       " 'pandas': (True, '2.0.3'),\n",
       " 'pyarrow': (True, '12.0.1'),\n",
       " 'openai': (True, '1.3.5'),\n",
       " 'python-decouple': (True, '3.8')}"
      ]
     },
     "execution_count": 1,
     "metadata": {},
     "output_type": "execute_result"
    }
   ],
   "source": [
    "# # Check if the specified packages are installed and their versions\n",
    "# import pkg_resources\n",
    "\n",
    "# # List of required packages and their versions\n",
    "# required_packages = {\n",
    "#     \"requests\": \"2.31.0\",\n",
    "#     \"pandas\": \"2.0.3\",\n",
    "#     \"pyarrow\": \"12.0.1\",\n",
    "#     \"openai\": \"1.3.5\",\n",
    "#     \"python-decouple\": \"3.8\"\n",
    "# }\n",
    "\n",
    "# # Function to check if each package is installed and if the version matches\n",
    "# def check_packages(packages):\n",
    "#     installed_packages = {pkg.key: pkg.version for pkg in pkg_resources.working_set}\n",
    "#     package_status = {}\n",
    "#     for package, version in packages.items():\n",
    "#         if package in installed_packages:\n",
    "#             installed_version = installed_packages[package]\n",
    "#             package_status[package] = (installed_version == version, installed_version)\n",
    "#         else:\n",
    "#             package_status[package] = (False, None)\n",
    "#     return package_status\n",
    "\n",
    "# # Check the packages\n",
    "# check_packages(required_packages)\n"
   ]
  },
  {
   "cell_type": "code",
   "execution_count": 2,
   "metadata": {},
   "outputs": [],
   "source": [
    "# pip install requests==2.31.0"
   ]
  },
  {
   "cell_type": "code",
   "execution_count": 3,
   "metadata": {},
   "outputs": [],
   "source": [
    "# pip install pandas==2.0.3"
   ]
  },
  {
   "cell_type": "code",
   "execution_count": 4,
   "metadata": {},
   "outputs": [],
   "source": [
    "# pip install pyarrow==12.0.1"
   ]
  },
  {
   "cell_type": "code",
   "execution_count": 5,
   "metadata": {},
   "outputs": [],
   "source": [
    "# pip install openai==1.3.5"
   ]
  },
  {
   "cell_type": "code",
   "execution_count": 6,
   "metadata": {},
   "outputs": [],
   "source": [
    "# pip install python-decouple==3.8"
   ]
  },
  {
   "cell_type": "code",
   "execution_count": 1,
   "metadata": {},
   "outputs": [
    {
     "name": "stdout",
     "output_type": "stream",
     "text": [
      "/Users/davidgerman/Downloads/llm_workshop/data/sample_apps.parquet\n"
     ]
    }
   ],
   "source": [
    "import sys, json\n",
    "import pandas as pd\n",
    "from pathlib import Path\n",
    "from IPython.display import HTML, display\n",
    "from decouple import config\n",
    "sys.path.append(\"../src/\")\n",
    "from llm_helpers import chatgpt_ask\n",
    "\n",
    "pd.set_option('display.max_columns', 1000, 'display.width', 1000, 'display.max_rows',1000)\n",
    "\n",
    "data_dir = Path(\".\").absolute().parent/\"data\"\n",
    "ls = lambda p:print(\"\\n\".join(map(str,p.iterdir())))\n",
    "\n",
    "ls(data_dir)"
   ]
  },
  {
   "cell_type": "code",
   "execution_count": 8,
   "metadata": {},
   "outputs": [
    {
     "data": {
      "text/html": [
       "<div>\n",
       "<style scoped>\n",
       "    .dataframe tbody tr th:only-of-type {\n",
       "        vertical-align: middle;\n",
       "    }\n",
       "\n",
       "    .dataframe tbody tr th {\n",
       "        vertical-align: top;\n",
       "    }\n",
       "\n",
       "    .dataframe thead th {\n",
       "        text-align: right;\n",
       "    }\n",
       "</style>\n",
       "<table border=\"1\" class=\"dataframe\">\n",
       "  <thead>\n",
       "    <tr style=\"text-align: right;\">\n",
       "      <th></th>\n",
       "      <th>bundle_id</th>\n",
       "      <th>title</th>\n",
       "      <th>description</th>\n",
       "      <th>store_url</th>\n",
       "      <th>category_names</th>\n",
       "      <th>ios</th>\n",
       "    </tr>\n",
       "  </thead>\n",
       "  <tbody>\n",
       "    <tr>\n",
       "      <th>36869</th>\n",
       "      <td>com.nexters.herowars</td>\n",
       "      <td>Hero Wars – Fantasy Battles</td>\n",
       "      <td>Unlock skills and battle enemies with Hero War...</td>\n",
       "      <td>https://play.google.com/store/apps/details?id=...</td>\n",
       "      <td>GAME_ROLE_PLAYING,GAME</td>\n",
       "      <td>False</td>\n",
       "    </tr>\n",
       "    <tr>\n",
       "      <th>1021</th>\n",
       "      <td>1105855019</td>\n",
       "      <td>Gardenscapes</td>\n",
       "      <td>Welcome to Gardenscapes—the first hit from Pla...</td>\n",
       "      <td>https://apps.apple.com/us/app/gardenscapes/id1...</td>\n",
       "      <td>Games,Entertainment,Puzzle,Simulation</td>\n",
       "      <td>True</td>\n",
       "    </tr>\n",
       "    <tr>\n",
       "      <th>2156</th>\n",
       "      <td>1200391796</td>\n",
       "      <td>June's Journey: Hidden Objects</td>\n",
       "      <td>I spy a mystery! Find the hidden objects to cr...</td>\n",
       "      <td>https://apps.apple.com/us/app/junes-journey-hi...</td>\n",
       "      <td>Games,Adventure,Puzzle</td>\n",
       "      <td>True</td>\n",
       "    </tr>\n",
       "    <tr>\n",
       "      <th>60188</th>\n",
       "      <td>net.supertreat.solitaire</td>\n",
       "      <td>Solitaire Grand Harvest</td>\n",
       "      <td>Welcome to Solitaire Grand Harvest! Play this ...</td>\n",
       "      <td>https://play.google.com/store/apps/details?id=...</td>\n",
       "      <td>GAME_CARD,GAME</td>\n",
       "      <td>False</td>\n",
       "    </tr>\n",
       "    <tr>\n",
       "      <th>659</th>\n",
       "      <td>air.com.playtika.slotomania</td>\n",
       "      <td>Slotomania™ Slots Casino Games</td>\n",
       "      <td>Slotomania wishes you a Happy New Year! Play n...</td>\n",
       "      <td>https://play.google.com/store/apps/details?id=...</td>\n",
       "      <td>GAME_CASINO,GAME</td>\n",
       "      <td>False</td>\n",
       "    </tr>\n",
       "    <tr>\n",
       "      <th>34033</th>\n",
       "      <td>com.mistplay.mistplay</td>\n",
       "      <td>MISTPLAY: Play to earn rewards</td>\n",
       "      <td>Introducing Mistplay, the app that lets you ea...</td>\n",
       "      <td>https://play.google.com/store/apps/details?id=...</td>\n",
       "      <td>ENTERTAINMENT,APPLICATION</td>\n",
       "      <td>False</td>\n",
       "    </tr>\n",
       "    <tr>\n",
       "      <th>6673</th>\n",
       "      <td>892521917</td>\n",
       "      <td>Tiki Solitaire TriPeaks</td>\n",
       "      <td>Tiki Solitaire TriPeaks: the classic Solitaire...</td>\n",
       "      <td>https://apps.apple.com/us/app/tiki-solitaire-t...</td>\n",
       "      <td>Games,Card,Puzzle</td>\n",
       "      <td>True</td>\n",
       "    </tr>\n",
       "    <tr>\n",
       "      <th>26290</th>\n",
       "      <td>com.hwqgrhhjfd.idlefastfood</td>\n",
       "      <td>Eatventure</td>\n",
       "      <td>Are you looking to become a restaurant million...</td>\n",
       "      <td>https://play.google.com/store/apps/details?id=...</td>\n",
       "      <td>GAME_SIMULATION,GAME</td>\n",
       "      <td>False</td>\n",
       "    </tr>\n",
       "    <tr>\n",
       "      <th>7477</th>\n",
       "      <td>com.alibaba.aliexpresshd</td>\n",
       "      <td>AliExpress</td>\n",
       "      <td>Maximum deals. Maximum fun. Shop our biggest s...</td>\n",
       "      <td>https://play.google.com/store/apps/details?id=...</td>\n",
       "      <td>SHOPPING,APPLICATION</td>\n",
       "      <td>False</td>\n",
       "    </tr>\n",
       "  </tbody>\n",
       "</table>\n",
       "</div>"
      ],
      "text/plain": [
       "                         bundle_id                           title                                        description                                          store_url                         category_names    ios\n",
       "36869         com.nexters.herowars     Hero Wars – Fantasy Battles  Unlock skills and battle enemies with Hero War...  https://play.google.com/store/apps/details?id=...                 GAME_ROLE_PLAYING,GAME  False\n",
       "1021                    1105855019                    Gardenscapes  Welcome to Gardenscapes—the first hit from Pla...  https://apps.apple.com/us/app/gardenscapes/id1...  Games,Entertainment,Puzzle,Simulation   True\n",
       "2156                    1200391796  June's Journey: Hidden Objects  I spy a mystery! Find the hidden objects to cr...  https://apps.apple.com/us/app/junes-journey-hi...                 Games,Adventure,Puzzle   True\n",
       "60188     net.supertreat.solitaire         Solitaire Grand Harvest  Welcome to Solitaire Grand Harvest! Play this ...  https://play.google.com/store/apps/details?id=...                         GAME_CARD,GAME  False\n",
       "659    air.com.playtika.slotomania  Slotomania™ Slots Casino Games  Slotomania wishes you a Happy New Year! Play n...  https://play.google.com/store/apps/details?id=...                       GAME_CASINO,GAME  False\n",
       "34033        com.mistplay.mistplay  MISTPLAY: Play to earn rewards  Introducing Mistplay, the app that lets you ea...  https://play.google.com/store/apps/details?id=...              ENTERTAINMENT,APPLICATION  False\n",
       "6673                     892521917         Tiki Solitaire TriPeaks  Tiki Solitaire TriPeaks: the classic Solitaire...  https://apps.apple.com/us/app/tiki-solitaire-t...                      Games,Card,Puzzle   True\n",
       "26290  com.hwqgrhhjfd.idlefastfood                      Eatventure  Are you looking to become a restaurant million...  https://play.google.com/store/apps/details?id=...                   GAME_SIMULATION,GAME  False\n",
       "7477      com.alibaba.aliexpresshd                      AliExpress  Maximum deals. Maximum fun. Shop our biggest s...  https://play.google.com/store/apps/details?id=...                   SHOPPING,APPLICATION  False"
      ]
     },
     "execution_count": 8,
     "metadata": {},
     "output_type": "execute_result"
    }
   ],
   "source": [
    "df = pd.read_parquet(data_dir / \"sample_apps.parquet\").sample(9)\n",
    "df"
   ]
  },
  {
   "cell_type": "markdown",
   "metadata": {},
   "source": [
    "## Ask ChatGPT a question on every row"
   ]
  },
  {
   "cell_type": "code",
   "execution_count": 9,
   "metadata": {},
   "outputs": [
    {
     "data": {
      "text/html": [
       "<div>\n",
       "<style scoped>\n",
       "    .dataframe tbody tr th:only-of-type {\n",
       "        vertical-align: middle;\n",
       "    }\n",
       "\n",
       "    .dataframe tbody tr th {\n",
       "        vertical-align: top;\n",
       "    }\n",
       "\n",
       "    .dataframe thead th {\n",
       "        text-align: right;\n",
       "    }\n",
       "</style>\n",
       "<table border=\"1\" class=\"dataframe\">\n",
       "  <thead>\n",
       "    <tr style=\"text-align: right;\">\n",
       "      <th></th>\n",
       "      <th>bundle_id</th>\n",
       "      <th>title</th>\n",
       "      <th>description</th>\n",
       "      <th>store_url</th>\n",
       "      <th>category_names</th>\n",
       "      <th>ios</th>\n",
       "      <th>for_kids</th>\n",
       "    </tr>\n",
       "  </thead>\n",
       "  <tbody>\n",
       "    <tr>\n",
       "      <th>36869</th>\n",
       "      <td>com.nexters.herowars</td>\n",
       "      <td>Hero Wars – Fantasy Battles</td>\n",
       "      <td>Unlock skills and battle enemies with Hero War...</td>\n",
       "      <td>https://play.google.com/store/apps/details?id=...</td>\n",
       "      <td>GAME_ROLE_PLAYING,GAME</td>\n",
       "      <td>False</td>\n",
       "      <td>False</td>\n",
       "    </tr>\n",
       "    <tr>\n",
       "      <th>1021</th>\n",
       "      <td>1105855019</td>\n",
       "      <td>Gardenscapes</td>\n",
       "      <td>Welcome to Gardenscapes—the first hit from Pla...</td>\n",
       "      <td>https://apps.apple.com/us/app/gardenscapes/id1...</td>\n",
       "      <td>Games,Entertainment,Puzzle,Simulation</td>\n",
       "      <td>True</td>\n",
       "      <td>False</td>\n",
       "    </tr>\n",
       "    <tr>\n",
       "      <th>2156</th>\n",
       "      <td>1200391796</td>\n",
       "      <td>June's Journey: Hidden Objects</td>\n",
       "      <td>I spy a mystery! Find the hidden objects to cr...</td>\n",
       "      <td>https://apps.apple.com/us/app/junes-journey-hi...</td>\n",
       "      <td>Games,Adventure,Puzzle</td>\n",
       "      <td>True</td>\n",
       "      <td>False</td>\n",
       "    </tr>\n",
       "    <tr>\n",
       "      <th>60188</th>\n",
       "      <td>net.supertreat.solitaire</td>\n",
       "      <td>Solitaire Grand Harvest</td>\n",
       "      <td>Welcome to Solitaire Grand Harvest! Play this ...</td>\n",
       "      <td>https://play.google.com/store/apps/details?id=...</td>\n",
       "      <td>GAME_CARD,GAME</td>\n",
       "      <td>False</td>\n",
       "      <td>False</td>\n",
       "    </tr>\n",
       "    <tr>\n",
       "      <th>659</th>\n",
       "      <td>air.com.playtika.slotomania</td>\n",
       "      <td>Slotomania™ Slots Casino Games</td>\n",
       "      <td>Slotomania wishes you a Happy New Year! Play n...</td>\n",
       "      <td>https://play.google.com/store/apps/details?id=...</td>\n",
       "      <td>GAME_CASINO,GAME</td>\n",
       "      <td>False</td>\n",
       "      <td>False</td>\n",
       "    </tr>\n",
       "    <tr>\n",
       "      <th>34033</th>\n",
       "      <td>com.mistplay.mistplay</td>\n",
       "      <td>MISTPLAY: Play to earn rewards</td>\n",
       "      <td>Introducing Mistplay, the app that lets you ea...</td>\n",
       "      <td>https://play.google.com/store/apps/details?id=...</td>\n",
       "      <td>ENTERTAINMENT,APPLICATION</td>\n",
       "      <td>False</td>\n",
       "      <td>False</td>\n",
       "    </tr>\n",
       "    <tr>\n",
       "      <th>6673</th>\n",
       "      <td>892521917</td>\n",
       "      <td>Tiki Solitaire TriPeaks</td>\n",
       "      <td>Tiki Solitaire TriPeaks: the classic Solitaire...</td>\n",
       "      <td>https://apps.apple.com/us/app/tiki-solitaire-t...</td>\n",
       "      <td>Games,Card,Puzzle</td>\n",
       "      <td>True</td>\n",
       "      <td>False</td>\n",
       "    </tr>\n",
       "    <tr>\n",
       "      <th>26290</th>\n",
       "      <td>com.hwqgrhhjfd.idlefastfood</td>\n",
       "      <td>Eatventure</td>\n",
       "      <td>Are you looking to become a restaurant million...</td>\n",
       "      <td>https://play.google.com/store/apps/details?id=...</td>\n",
       "      <td>GAME_SIMULATION,GAME</td>\n",
       "      <td>False</td>\n",
       "      <td>False</td>\n",
       "    </tr>\n",
       "    <tr>\n",
       "      <th>7477</th>\n",
       "      <td>com.alibaba.aliexpresshd</td>\n",
       "      <td>AliExpress</td>\n",
       "      <td>Maximum deals. Maximum fun. Shop our biggest s...</td>\n",
       "      <td>https://play.google.com/store/apps/details?id=...</td>\n",
       "      <td>SHOPPING,APPLICATION</td>\n",
       "      <td>False</td>\n",
       "      <td>False</td>\n",
       "    </tr>\n",
       "  </tbody>\n",
       "</table>\n",
       "</div>"
      ],
      "text/plain": [
       "                         bundle_id                           title                                        description                                          store_url                         category_names    ios  for_kids\n",
       "36869         com.nexters.herowars     Hero Wars – Fantasy Battles  Unlock skills and battle enemies with Hero War...  https://play.google.com/store/apps/details?id=...                 GAME_ROLE_PLAYING,GAME  False     False\n",
       "1021                    1105855019                    Gardenscapes  Welcome to Gardenscapes—the first hit from Pla...  https://apps.apple.com/us/app/gardenscapes/id1...  Games,Entertainment,Puzzle,Simulation   True     False\n",
       "2156                    1200391796  June's Journey: Hidden Objects  I spy a mystery! Find the hidden objects to cr...  https://apps.apple.com/us/app/junes-journey-hi...                 Games,Adventure,Puzzle   True     False\n",
       "60188     net.supertreat.solitaire         Solitaire Grand Harvest  Welcome to Solitaire Grand Harvest! Play this ...  https://play.google.com/store/apps/details?id=...                         GAME_CARD,GAME  False     False\n",
       "659    air.com.playtika.slotomania  Slotomania™ Slots Casino Games  Slotomania wishes you a Happy New Year! Play n...  https://play.google.com/store/apps/details?id=...                       GAME_CASINO,GAME  False     False\n",
       "34033        com.mistplay.mistplay  MISTPLAY: Play to earn rewards  Introducing Mistplay, the app that lets you ea...  https://play.google.com/store/apps/details?id=...              ENTERTAINMENT,APPLICATION  False     False\n",
       "6673                     892521917         Tiki Solitaire TriPeaks  Tiki Solitaire TriPeaks: the classic Solitaire...  https://apps.apple.com/us/app/tiki-solitaire-t...                      Games,Card,Puzzle   True     False\n",
       "26290  com.hwqgrhhjfd.idlefastfood                      Eatventure  Are you looking to become a restaurant million...  https://play.google.com/store/apps/details?id=...                   GAME_SIMULATION,GAME  False     False\n",
       "7477      com.alibaba.aliexpresshd                      AliExpress  Maximum deals. Maximum fun. Shop our biggest s...  https://play.google.com/store/apps/details?id=...                   SHOPPING,APPLICATION  False     False"
      ]
     },
     "execution_count": 9,
     "metadata": {},
     "output_type": "execute_result"
    }
   ],
   "source": [
    "df[\"for_kids\"] = df.apply(chatgpt_ask(\"Given the app description:\\n{description}\\n\\nIs it for kids?\\nAnswer only yes or no\"), axis=1)\n",
    "df"
   ]
  },
  {
   "cell_type": "markdown",
   "metadata": {},
   "source": [
    "## Question:\n",
    "Please rewrite the code such that the response to a yes/no question would be boolean (`True` or `False`)"
   ]
  },
  {
   "cell_type": "markdown",
   "metadata": {},
   "source": [
    "**My first attempt:** \n",
    "Given your chatgpt_ask function's design, it returns a function (pandas_func) that is to be applied to a pandas DataFrame. To modify the code such that the response to a yes/no question is boolean (True or False), I add an additional step to process the output of chatgpt_ask.\\\\\n",
    "Here's how I  do it:\\\\\n",
    "- Apply the chatgpt_ask function: First, use the chatgpt_ask function to get 'yes'/'no' answers.\n",
    "- Convert the Responses to Boolean: After getting the responses, convert them from 'yes'/'no' to boolean values.\\\\\n",
    "\n",
    "\n",
    "**My second (and final) attempt:** \n",
    "I ensure that the chatgpt_ask function directly returns a boolean response based on a yes/no question, so I modify the chatgpt_ask function itself. This change will make the function more versatile and allow me to use it directly with df.apply without needing additional steps to convert the responses."
   ]
  },
  {
   "cell_type": "code",
   "execution_count": 10,
   "metadata": {},
   "outputs": [],
   "source": [
    "## MY FIRST ATTEMPT\n",
    "\n",
    "# # Apply the chatgpt_ask function\n",
    "# df[\"for_kids_response\"] = df.apply(chatgpt_ask(\"Given the app description:\\n{description}\\n\\nIs it for kids?\\nAnswer only yes or no\"), axis=1)\n",
    "\n",
    "# # Function to convert 'yes'/'no' to True/False\n",
    "# def response_to_bool(response):\n",
    "#     if response is not None:\n",
    "#         return response.lower().strip() == 'yes'\n",
    "#     return False  # or return None if you prefer to keep non-responses as None\n",
    "\n",
    "# # Convert 'yes'/'no' to True/False\n",
    "# df[\"for_kids\"] = df[\"for_kids_response\"].apply(response_to_bool)\n",
    "# df\n",
    "\n"
   ]
  },
  {
   "cell_type": "code",
   "execution_count": null,
   "metadata": {},
   "outputs": [],
   "source": []
  },
  {
   "cell_type": "code",
   "execution_count": null,
   "metadata": {},
   "outputs": [],
   "source": []
  }
 ],
 "metadata": {
  "kernelspec": {
   "display_name": "Python 3 (ipykernel)",
   "language": "python",
   "name": "python3"
  },
  "language_info": {
   "codemirror_mode": {
    "name": "ipython",
    "version": 3
   },
   "file_extension": ".py",
   "mimetype": "text/x-python",
   "name": "python",
   "nbconvert_exporter": "python",
   "pygments_lexer": "ipython3",
   "version": "3.10.9"
  }
 },
 "nbformat": 4,
 "nbformat_minor": 4
}
